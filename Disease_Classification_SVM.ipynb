{
  "cells": [
    {
      "cell_type": "code",
      "execution_count": 1,
      "metadata": {
        "colab": {
          "base_uri": "https://localhost:8080/"
        },
        "id": "3rY2XKkZZeAg",
        "outputId": "f69f9419-347f-499d-e71f-65ab13978116"
      },
      "outputs": [
        {
          "output_type": "stream",
          "name": "stdout",
          "text": [
            "Mounted at /content/gdrive\n"
          ]
        }
      ],
      "source": [
        "import matplotlib.pyplot as plt\n",
        "import os\n",
        "import pandas as pd\n",
        "import numpy as np\n",
        "import cv2\n",
        "from PIL import Image\n",
        "import PIL\n",
        "from google.colab.patches import cv2_imshow\n",
        "import gspread\n",
        "import torch\n",
        "import torchvision\n",
        "import torchvision.transforms as transforms\n",
        "import sklearn\n",
        "from skimage.transform import resize\n",
        "from skimage.io import imread\n",
        "\n",
        "from google.colab import drive\n",
        "drive.mount('/content/gdrive')"
      ]
    },
    {
      "cell_type": "code",
      "execution_count": 2,
      "metadata": {
        "id": "Zze7kc7DZh8e"
      },
      "outputs": [],
      "source": [
        "NoFind = 0\n",
        "Covid = 1\n",
        "Atelectasis = 3\n",
        "Cardiomegaly = 4\n",
        "Effusion = 5\n",
        "Infiltration = 6\n",
        "MASS = 7\n",
        "Nodule = 8\n",
        "Pneumonia = 9\n",
        "Pneumothorax = 10\n",
        "Consolidation = 11\n",
        "Edema = 12\n",
        "Emphysema, Fibrosis, Pleural, Hernia, Tuberculosis, Opacity, Other = 13, 14, 15, 16, 17, 18, 19\n",
        "testing_path = '/content/gdrive/MyDrive/DiseaseDetection/Testing/Images/'\n",
        "\n",
        "tb_path_pos = '/content/gdrive/MyDrive/DiseaseDetection/TB_Chest_Radiography_Database/Tuberculosis/'\n",
        "tb_path_neg = '/content/gdrive/MyDrive/DiseaseDetection/TB_Chest_Radiography_Database/Normal/'\n",
        "tb_data = '/content/gdrive/MyDrive/DiseaseDetection/TB_Chest_Radiography_Database/Tuberculosis.csv'\n",
        "\n",
        "cov1_path_cov = '/content/gdrive/MyDrive/DiseaseDetection/COVID-19_Radiography_Dataset/COVID/images/'\n",
        "cov1_path_vir = '/content/gdrive/MyDrive/DiseaseDetection/COVID-19_Radiography_Dataset/Viral Pneumonia/images/'\n",
        "cov1_path_opac = '/content/gdrive/MyDrive/DiseaseDetection/COVID-19_Radiography_Dataset/Lung_Opacity/images/'\n",
        "cov1_path_neg = '/content/gdrive/MyDrive/DiseaseDetection/COVID-19_Radiography_Dataset/Normal/images/'\n",
        "cov1_data = '/content/gdrive/MyDrive/DiseaseDetection/COVID-19_Radiography_Dataset/data.csv'\n",
        "\n",
        "cov2_images = '/content/gdrive/MyDrive/DiseaseDetection/covid-chestxray-dataset-master/images/'\n",
        "cov2_data = '/content/gdrive/MyDrive/DiseaseDetection/covid-chestxray-dataset-master/Data.csv'\n",
        "\n",
        "dd_paths = []\n",
        "for i in range(1, 13):\n",
        "  x = '/content/gdrive/MyDrive/DiseaseDetection/DD Full Dataset/images_0'\n",
        "  if i < 10:\n",
        "    x += '0'\n",
        "  x += str(i) + '/images/'\n",
        "  dd_paths.append(x)\n",
        "\n",
        "dd_data = '/content/gdrive/MyDrive/DiseaseDetection/DD Full Dataset/data.csv'"
      ]
    },
    {
      "cell_type": "code",
      "execution_count": 3,
      "metadata": {
        "id": "yiLiuK8kZjVz"
      },
      "outputs": [],
      "source": [
        "tb_df = pd.read_csv(tb_data)\n",
        "cov1_df = pd.read_csv(cov1_data)\n",
        "cov2_df = pd.read_csv(cov2_data)\n",
        "dd_df = pd.read_csv(dd_data)\n",
        "\n",
        "tb_df.rename(columns = {\"FILE NAME\": \"Name\"}, inplace = True)\n",
        "cov1_df.rename(columns = {\"FILE NAME\": \"Name\"}, inplace = True)\n",
        "cov2_df.rename(columns = {\"filename\": \"Name\", 'finding': 'Diagnosis'}, inplace = True)\n",
        "dd_df.rename(columns = {\"Image Index\": \"Name\", 'Finding Labels': 'Diagnosis'}, inplace = True)\n",
        "\n",
        "def split(x):\n",
        "  if \"|\" in x:\n",
        "    return x.split('|')\n",
        "  elif \"/\" in x:\n",
        "    return x.split('/')\n",
        "  else:\n",
        "    if type(x) != list:\n",
        "      return [x]\n",
        "    else:\n",
        "      return x\n",
        "def organize(x):\n",
        "  for i in range(len(x)):\n",
        "    if x[i].lower() == \"covid\" or x[i].lower() == \"covid-19\":\n",
        "      x[i] = Covid\n",
        "    elif x[i] == \"None\" or x[i] == \"No Finding\":\n",
        "      x[i] = NoFind\n",
        "    elif x[i] == \"Viral\":\n",
        "      x[i] = Pneumonia\n",
        "    elif x[i] == \"Atelectasis\":\n",
        "      x[i] = Atelectasis\n",
        "    elif x[i] == \"Cardiomegaly\":\n",
        "      x[i] = Cardiomegaly\n",
        "    elif x[i] == \"Effusion\":\n",
        "      x[i] = Effusion\n",
        "    elif x[i] == \"Infiltration\":\n",
        "      x[i] = Infiltration\n",
        "    elif x[i] == \"Mass\":\n",
        "      x[i] = MASS\n",
        "    elif x[i] == \"Nodule\":\n",
        "      x[i] = Nodule\n",
        "    elif x[i] == \"Pneumonia\":\n",
        "      x[i] = Pneumonia\n",
        "    elif x[i] == \"Pneumothorax\":\n",
        "      x[i] = Pneumothorax\n",
        "    elif x[i] == \"Consolidation\":\n",
        "      x[i] = Consolidation\n",
        "    elif x[i] == \"Edema\":\n",
        "      x[i] = Edema\n",
        "    elif x[i] == \"Emphysema\":\n",
        "      x[i] = Emphysema\n",
        "    elif x[i] == \"Fibrosis\":\n",
        "      x[i] = Fibrosis\n",
        "    elif x[i] == \"Pleural_Thickening\":\n",
        "      x[i] = Pleural\n",
        "    elif x[i] == \"Hernia\":\n",
        "      x[i] = Hernia\n",
        "    elif x[i] == \"Tuberculosis\":\n",
        "      x[i] = Tuberculosis\n",
        "    elif x[i] == \"Opacity\":\n",
        "      x[i] = Opacity\n",
        "    else:\n",
        "      x[i] = Other\n",
        "  return x\n",
        "def cov1_modify(x):\n",
        "  if \"NORMAL\" in x:\n",
        "    return x.capitalize() + '.png'\n",
        "  return x + '.png'\n",
        "\n",
        "def tb_modify(x):\n",
        "  if \"Normal\" in x:\n",
        "    return \"Normal TB-\" + x.split(\"-\")[1] + '.png'\n",
        "  return x + \".png\"\n",
        "cov1_df[\"Name\"] = cov1_df[\"Name\"].apply(cov1_modify)\n",
        "tb_df[\"Name\"] = tb_df[\"Name\"].apply(tb_modify)\n",
        "\n",
        "\n",
        "df = pd.concat([dd_df, cov2_df, cov1_df, tb_df], ignore_index=True)\n",
        "df[\"Diagnosis\"] = df[\"Diagnosis\"].apply(split)\n",
        "df[\"Diagnosis\"] = df[\"Diagnosis\"].apply(organize)\n",
        "df.rename(columns = {\"Name\": \"Image Name\", 'Diagnosis': 'Classification'}, inplace = True)"
      ]
    },
    {
      "cell_type": "code",
      "source": [],
      "metadata": {
        "id": "Tj2AfX2HzWn2"
      },
      "execution_count": 3,
      "outputs": []
    },
    {
      "cell_type": "code",
      "execution_count": 4,
      "metadata": {
        "id": "_YnL8tKDZj2f"
      },
      "outputs": [],
      "source": [
        "temp = df[\"Classification\"].copy()\n",
        "labels = {df[\"Image Name\"][i]: temp[i][0] for i in range(len(df))}\n",
        "X_test = []\n",
        "labels_ref = []"
      ]
    },
    {
      "cell_type": "code",
      "execution_count": 5,
      "metadata": {
        "id": "AjkSTLTYZlBk"
      },
      "outputs": [],
      "source": [
        "for i in os.listdir(tb_path_pos): \n",
        "  curr = Image.open(tb_path_pos + i)\n",
        "  curr = curr.resize((32,32))\n",
        "  curr = curr.convert(\"L\")\n",
        "  if i in labels:\n",
        "    X_test.append(np.asarray(curr).flatten())\n",
        "    labels_ref.append(labels[i])"
      ]
    },
    {
      "cell_type": "code",
      "execution_count": 6,
      "metadata": {
        "id": "iUdBPJkxZoWf"
      },
      "outputs": [],
      "source": [
        "for i in os.listdir(tb_path_neg):\n",
        "  curr = Image.open(tb_path_neg + i)\n",
        "  curr = curr.resize((32,32))\n",
        "  curr = curr.convert(\"L\")\n",
        "  if i in labels:\n",
        "    X_test.append(np.asarray(curr).flatten())\n",
        "    labels_ref.append(labels[i])"
      ]
    },
    {
      "cell_type": "code",
      "execution_count": 7,
      "metadata": {
        "id": "F6c5lsWfaKT5"
      },
      "outputs": [],
      "source": [
        "for i in os.listdir(cov1_path_neg):\n",
        "  if \"(\" not in i:\n",
        "      curr = Image.open(cov1_path_neg + i)\n",
        "      curr = curr.resize((32,32))\n",
        "      curr = curr.convert(\"L\")\n",
        "      if i in labels:\n",
        "        X_test.append(np.asarray(curr).flatten())\n",
        "        labels_ref.append(labels[i])"
      ]
    },
    {
      "cell_type": "code",
      "execution_count": 8,
      "metadata": {
        "id": "CbO9HPMYaLLu"
      },
      "outputs": [],
      "source": [
        "for i in os.listdir(cov1_path_opac):\n",
        "  curr = Image.open(cov1_path_opac + i)\n",
        "  curr = curr.resize((32,32))\n",
        "  curr = curr.convert(\"L\")\n",
        "  if i in labels:\n",
        "    X_test.append(np.asarray(curr).flatten())\n",
        "    labels_ref.append(labels[i])"
      ]
    },
    {
      "cell_type": "code",
      "execution_count": 9,
      "metadata": {
        "id": "HOb6NoZdaMKg"
      },
      "outputs": [],
      "source": [
        "for i in os.listdir(cov1_path_vir):\n",
        "  curr = Image.open(cov1_path_vir + i)\n",
        "  curr = curr.resize((32,32))\n",
        "  curr = curr.convert(\"L\")\n",
        "  if i in labels:\n",
        "    X_test.append(np.asarray(curr).flatten())\n",
        "    labels_ref.append(labels[i])"
      ]
    },
    {
      "cell_type": "code",
      "execution_count": 10,
      "metadata": {
        "id": "Uxbu6OKsaNHc"
      },
      "outputs": [],
      "source": [
        "for i in os.listdir(cov1_path_cov):\n",
        "  if \"(\" not in i:\n",
        "    curr = Image.open(cov1_path_cov + i)\n",
        "    curr = curr.resize((32,32))\n",
        "    curr = curr.convert(\"L\")\n",
        "    if i in labels:\n",
        "      X_test.append(np.asarray(curr).flatten())\n",
        "      labels_ref.append(labels[i])"
      ]
    },
    {
      "cell_type": "code",
      "execution_count": null,
      "metadata": {
        "colab": {
          "background_save": true,
          "base_uri": "https://localhost:8080/"
        },
        "id": "lOFE3eTraNgl",
        "outputId": "b40051b1-8e26-492b-ca2c-298857bd739c"
      },
      "outputs": [
        {
          "output_type": "stream",
          "name": "stdout",
          "text": [
            "/content/gdrive/MyDrive/DiseaseDetection/DD Full Dataset/images_001/images/ 190.38926815986633\n",
            "/content/gdrive/MyDrive/DiseaseDetection/DD Full Dataset/images_002/images/ 641.7141966819763\n",
            "/content/gdrive/MyDrive/DiseaseDetection/DD Full Dataset/images_003/images/ 1087.1344645023346\n"
          ]
        }
      ],
      "source": [
        "import time\n",
        "import random\n",
        "start = time.time()\n",
        "for i in dd_paths:\n",
        "  for j in os.listdir(i):\n",
        "    if random.randint(1, 20) == 1:\n",
        "      curr = Image.open(i + j)\n",
        "      curr = curr.resize((32,32))\n",
        "      curr = curr.convert(\"L\")\n",
        "      if j in labels:\n",
        "        X_test.append(np.asarray(curr).flatten())\n",
        "        labels_ref.append(labels[j])\n",
        "  print(i, time.time() - start)\n",
        "end = time.time()\n",
        "print(end - start)"
      ]
    },
    {
      "cell_type": "code",
      "execution_count": null,
      "metadata": {
        "colab": {
          "background_save": true
        },
        "id": "auUwZ3y8aPmH"
      },
      "outputs": [],
      "source": [
        "for i in os.listdir(cov2_images):\n",
        "  curr = Image.open(cov2_images + i)\n",
        "  curr = curr.resize((32,32))\n",
        "  curr = curr.convert(\"L\")\n",
        "  if i in labels:\n",
        "    X_test.append(np.asarray(curr).flatten())\n",
        "    labels_ref.append(labels[i])"
      ]
    },
    {
      "cell_type": "code",
      "execution_count": null,
      "metadata": {
        "colab": {
          "background_save": true
        },
        "id": "rPpOAN6Xbegd"
      },
      "outputs": [],
      "source": [
        "X_test=np.array(X_test)\n",
        "target=np.array(labels_ref)\n",
        "\n",
        "new_df=pd.DataFrame(X_test)\n",
        "new_df['Target']=target\n",
        "new_df = new_df[new_df[\"Target\"] != 19]\n",
        "x=new_df.iloc[:,:-1]\n",
        "y=new_df.iloc[:,-1]"
      ]
    },
    {
      "cell_type": "code",
      "execution_count": null,
      "metadata": {
        "colab": {
          "background_save": true
        },
        "id": "TM0XerUaXMDb"
      },
      "outputs": [],
      "source": [
        "from sklearn.model_selection import train_test_split\n",
        "from sklearn import svm\n",
        "from sklearn.model_selection import GridSearchCV\n",
        "\n",
        "from sklearn.preprocessing import StandardScaler\n",
        "from sklearn.preprocessing import MinMaxScaler"
      ]
    },
    {
      "cell_type": "code",
      "execution_count": null,
      "metadata": {
        "colab": {
          "background_save": true
        },
        "id": "brRk40GCbrMZ"
      },
      "outputs": [],
      "source": [
        "scaler = MinMaxScaler()\n",
        "x = scaler.fit_transform(x)\n",
        "\n",
        "param_grid={}\n",
        "svc=svm.SVC(probability=True)\n",
        "model=svm.SVC(kernel='rbf')"
      ]
    },
    {
      "cell_type": "code",
      "execution_count": null,
      "metadata": {
        "colab": {
          "background_save": true
        },
        "id": "vyt-DJ0MbtNK"
      },
      "outputs": [],
      "source": [
        "# from sklearn.model_selection import train_test_split\n",
        "x_train,x_test,y_train,y_test=train_test_split(x,y,test_size=0.40,stratify=y)\n",
        "print('Splitted Successfully')\n",
        "model.fit(x_train,y_train)\n",
        "print('The Model is trained well with the given images')"
      ]
    },
    {
      "cell_type": "code",
      "execution_count": null,
      "metadata": {
        "id": "SsCwrP_MbvSP"
      },
      "outputs": [],
      "source": [
        "y_pred=model.predict(x_test)\n",
        "y_pred2=model.predict(x_train) # 97.20238095238095, 98.76984126984128; 88.38519970595442, 91.24326090508087; 88.86206896551724, 90.63529772396353; 82.26887443327419, 85.7612195282213; 79.9790156428844, 83.81660943660181\n",
        "print(f\"The model is {sklearn.metrics.accuracy_score(y_pred,y_test)*100}, {sklearn.metrics.accuracy_score(y_pred2,y_train)*100}% accurate\")\n",
        "\n",
        "# for i in x_test:\n",
        "#   cv2_imshow(i[0])"
      ]
    }
  ],
  "metadata": {
    "colab": {
      "provenance": []
    },
    "kernelspec": {
      "display_name": "Python 3",
      "name": "python3"
    },
    "language_info": {
      "name": "python"
    }
  },
  "nbformat": 4,
  "nbformat_minor": 0
}