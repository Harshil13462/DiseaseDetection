{
  "nbformat": 4,
  "nbformat_minor": 0,
  "metadata": {
    "colab": {
      "provenance": [],
      "collapsed_sections": []
    },
    "kernelspec": {
      "name": "python3",
      "display_name": "Python 3"
    },
    "language_info": {
      "name": "python"
    },
    "accelerator": "GPU",
    "gpuClass": "standard"
  },
  "cells": [
    {
      "cell_type": "code",
      "metadata": {
        "id": "8d3RH_mti6zR",
        "colab": {
          "base_uri": "https://localhost:8080/"
        },
        "outputId": "fe871c77-16a0-4884-f907-5b363736274e"
      },
      "source": [
        "import matplotlib.pyplot as plt\n",
        "import os\n",
        "import pandas as pd\n",
        "import numpy as np\n",
        "import cv2\n",
        "from PIL import Image\n",
        "import PIL\n",
        "from google.colab.patches import cv2_imshow\n",
        "import gspread\n",
        "import torch\n",
        "import torchvision\n",
        "import torchvision.transforms as transforms\n",
        "import sklearn\n",
        "\n",
        "from google.colab import drive\n",
        "drive.mount('/content/gdrive')"
      ],
      "execution_count": 3,
      "outputs": [
        {
          "output_type": "stream",
          "name": "stdout",
          "text": [
            "Mounted at /content/gdrive\n"
          ]
        }
      ]
    },
    {
      "cell_type": "code",
      "source": [
        "drive.mount(\"/content/gdrive\", force_remount=True)"
      ],
      "metadata": {
        "id": "IhhDnshtplxh"
      },
      "execution_count": null,
      "outputs": []
    },
    {
      "cell_type": "code",
      "source": [
        "NoFind = 0\n",
        "Covid = 1\n",
        "Atelectasis = 3\n",
        "Cardiomegaly = 4\n",
        "Effusion = 5\n",
        "Infiltration = 6\n",
        "MASS = 7\n",
        "Nodule = 8\n",
        "Pneumonia = 9\n",
        "Pneumothorax = 10\n",
        "Consolidation = 11\n",
        "Edema = 12\n",
        "Emphysema, Fibrosis, Pleural, Hernia, Tuberculosis, Opacity, Other = 13, 14, 15, 16, 17, 18, 19\n",
        "testing_path = '/content/gdrive/MyDrive/DiseaseDetection/Testing/Images/'\n",
        "\n",
        "tb_path_pos = '/content/gdrive/MyDrive/DiseaseDetection/TB_Chest_Radiography_Database/Tuberculosis/'\n",
        "tb_path_neg = '/content/gdrive/MyDrive/DiseaseDetection/TB_Chest_Radiography_Database/Normal/'\n",
        "tb_data = '/content/gdrive/MyDrive/DiseaseDetection/TB_Chest_Radiography_Database/Tuberculosis.csv'\n",
        "\n",
        "cov1_path_cov = '/content/gdrive/MyDrive/DiseaseDetection/COVID-19_Radiography_Dataset/COVID/images/'\n",
        "cov1_path_vir = '/content/gdrive/MyDrive/DiseaseDetection/COVID-19_Radiography_Dataset/Viral Pneumonia/images/'\n",
        "cov1_path_opac = '/content/gdrive/MyDrive/DiseaseDetection/COVID-19_Radiography_Dataset/Lung_Opacity/images/'\n",
        "cov1_path_neg = '/content/gdrive/MyDrive/DiseaseDetection/COVID-19_Radiography_Dataset/Normal/images/'\n",
        "cov1_data = '/content/gdrive/MyDrive/DiseaseDetection/COVID-19_Radiography_Dataset/data.csv'\n",
        "\n",
        "cov2_images = '/content/gdrive/MyDrive/DiseaseDetection/covid-chestxray-dataset-master/images/'\n",
        "cov2_data = '/content/gdrive/MyDrive/DiseaseDetection/covid-chestxray-dataset-master/Data.csv'\n",
        "\n",
        "dd_paths = []\n",
        "for i in range(1, 13):\n",
        "  x = '/content/gdrive/MyDrive/DiseaseDetection/DD Full Dataset/images_0'\n",
        "  if i < 10:\n",
        "    x += '0'\n",
        "  x += str(i) + '/images/'\n",
        "  dd_paths.append(x)\n",
        "\n",
        "dd_data = '/content/gdrive/MyDrive/DiseaseDetection/DD Full Dataset/data.csv'"
      ],
      "metadata": {
        "id": "AfsVe0_Nf8CH"
      },
      "execution_count": 4,
      "outputs": []
    },
    {
      "cell_type": "code",
      "source": [
        "tb_df = pd.read_csv(tb_data)\n",
        "cov1_df = pd.read_csv(cov1_data)\n",
        "cov2_df = pd.read_csv(cov2_data)\n",
        "dd_df = pd.read_csv(dd_data)\n",
        "\n",
        "tb_df.rename(columns = {\"FILE NAME\": \"Name\"}, inplace = True)\n",
        "cov1_df.rename(columns = {\"FILE NAME\": \"Name\"}, inplace = True)\n",
        "cov2_df.rename(columns = {\"filename\": \"Name\", 'finding': 'Diagnosis'}, inplace = True)\n",
        "dd_df.rename(columns = {\"Image Index\": \"Name\", 'Finding Labels': 'Diagnosis'}, inplace = True)\n",
        "\n",
        "def split(x):\n",
        "  if \"|\" in x:\n",
        "    return x.split('|')\n",
        "  elif \"/\" in x:\n",
        "    return x.split('/')\n",
        "  else:\n",
        "    if type(x) != list:\n",
        "      return [x]\n",
        "    else:\n",
        "      return x\n",
        "def organize(x):\n",
        "  for i in range(len(x)):\n",
        "    if x[i].lower() == \"covid\" or x[i].lower() == \"covid-19\":\n",
        "      x[i] = Covid\n",
        "    elif x[i] == \"None\" or x[i] == \"No Finding\":\n",
        "      x[i] = NoFind\n",
        "    elif x[i] == \"Viral\":\n",
        "      x[i] = Pneumonia\n",
        "    elif x[i] == \"Atelectasis\":\n",
        "      x[i] = Atelectasis\n",
        "    elif x[i] == \"Cardiomegaly\":\n",
        "      x[i] = Cardiomegaly\n",
        "    elif x[i] == \"Effusion\":\n",
        "      x[i] = Effusion\n",
        "    elif x[i] == \"Infiltration\":\n",
        "      x[i] = Infiltration\n",
        "    elif x[i] == \"Mass\":\n",
        "      x[i] = MASS\n",
        "    elif x[i] == \"Nodule\":\n",
        "      x[i] = Nodule\n",
        "    elif x[i] == \"Pneumonia\":\n",
        "      x[i] = Pneumonia\n",
        "    elif x[i] == \"Pneumothorax\":\n",
        "      x[i] = Pneumothorax\n",
        "    elif x[i] == \"Consolidation\":\n",
        "      x[i] = Consolidation\n",
        "    elif x[i] == \"Edema\":\n",
        "      x[i] = Edema\n",
        "    elif x[i] == \"Emphysema\":\n",
        "      x[i] = Emphysema\n",
        "    elif x[i] == \"Fibrosis\":\n",
        "      x[i] = Fibrosis\n",
        "    elif x[i] == \"Pleural_Thickening\":\n",
        "      x[i] = Pleural\n",
        "    elif x[i] == \"Hernia\":\n",
        "      x[i] = Hernia\n",
        "    elif x[i] == \"Tuberculosis\":\n",
        "      x[i] = Tuberculosis\n",
        "    elif x[i] == \"Opacity\":\n",
        "      x[i] = Opacity\n",
        "    else:\n",
        "      x[i] = Other\n",
        "  return x\n",
        "def cov1_modify(x):\n",
        "  if \"NORMAL\" in x:\n",
        "    return x.capitalize() + '.png'\n",
        "  return x + '.png'\n",
        "\n",
        "def tb_modify(x):\n",
        "  if \"Normal\" in x:\n",
        "    return \"Normal TB-\" + x.split(\"-\")[1] + '.png'\n",
        "  return x + \".png\"\n",
        "cov1_df[\"Name\"] = cov1_df[\"Name\"].apply(cov1_modify)\n",
        "tb_df[\"Name\"] = tb_df[\"Name\"].apply(tb_modify)\n",
        "\n",
        "\n",
        "df = pd.concat([dd_df, cov2_df, cov1_df, tb_df], ignore_index=True)\n",
        "df[\"Diagnosis\"] = df[\"Diagnosis\"].apply(split)\n",
        "df[\"Diagnosis\"] = df[\"Diagnosis\"].apply(organize)\n",
        "df.rename(columns = {\"Name\": \"Image Name\", 'Diagnosis': 'Classification'}, inplace = True)"
      ],
      "metadata": {
        "id": "YHfOzbhcaovK"
      },
      "execution_count": 5,
      "outputs": []
    },
    {
      "cell_type": "code",
      "source": [
        "temp = df[\"Classification\"].copy()\n",
        "labels = {df[\"Image Name\"][i]: temp[i][0] for i in range(len(df))}"
      ],
      "metadata": {
        "id": "_DHJr9_geFts"
      },
      "execution_count": 6,
      "outputs": []
    },
    {
      "cell_type": "code",
      "source": [
        "X_test = []"
      ],
      "metadata": {
        "id": "NjbV5JmSh5vL"
      },
      "execution_count": 2,
      "outputs": []
    },
    {
      "cell_type": "code",
      "source": [
        "for i in os.listdir(tb_path_pos): \n",
        "  curr = Image.open(tb_path_pos + i)\n",
        "  curr = curr.resize((32,32))\n",
        "  curr = curr.convert(\"L\")\n",
        "  curr = np.stack((curr,)*3)\n",
        "  curr = np.transpose(curr, (1, 2, 0))\n",
        "  curr = PIL.Image.fromarray(curr)\n",
        "  X_test.append(((np.transpose(np.asarray(curr), (2, 1, 0)) / 255), labels[i]))"
      ],
      "metadata": {
        "id": "teG70_I1MmXJ"
      },
      "execution_count": 7,
      "outputs": []
    },
    {
      "cell_type": "code",
      "source": [
        "for i in os.listdir(tb_path_neg):\n",
        "  curr = Image.open(tb_path_neg + i)\n",
        "  curr = curr.resize((32,32))\n",
        "  curr = curr.convert(\"L\")\n",
        "  curr = np.stack((curr,)*3)\n",
        "  curr = np.transpose(curr, (1, 2, 0))\n",
        "  curr = PIL.Image.fromarray(curr)\n",
        "  X_test.append(((np.transpose(np.asarray(curr), (2, 1, 0)) / 255), labels[i]))"
      ],
      "metadata": {
        "id": "uI35m_6oeaIY"
      },
      "execution_count": 8,
      "outputs": []
    },
    {
      "cell_type": "code",
      "source": [
        "for i in os.listdir(cov1_path_neg):\n",
        "  if \"(\" not in i:\n",
        "    curr = Image.open(cov1_path_neg + i)\n",
        "    curr = curr.resize((32,32))\n",
        "    curr = curr.convert(\"L\")\n",
        "    curr = np.stack((curr,)*3)\n",
        "    curr = np.transpose(curr, (1, 2, 0))\n",
        "    curr = PIL.Image.fromarray(curr)\n",
        "    X_test.append(((np.transpose(np.asarray(curr), (2, 1, 0)) / 255), labels[i]))"
      ],
      "metadata": {
        "id": "TJf5lcq4few3"
      },
      "execution_count": 9,
      "outputs": []
    },
    {
      "cell_type": "code",
      "source": [
        "for i in os.listdir(cov1_path_opac):\n",
        "  curr = Image.open(cov1_path_opac + i)\n",
        "  curr = curr.resize((32,32))\n",
        "  curr = curr.convert(\"L\")\n",
        "  curr = np.stack((curr,)*3)\n",
        "  curr = np.transpose(curr, (1, 2, 0))\n",
        "  curr = PIL.Image.fromarray(curr)\n",
        "  X_test.append(((np.transpose(np.asarray(curr), (2, 1, 0)) / 255), labels[i]))"
      ],
      "metadata": {
        "id": "wqqeYtqtedc-"
      },
      "execution_count": 10,
      "outputs": []
    },
    {
      "cell_type": "code",
      "source": [
        "for i in os.listdir(cov1_path_vir):\n",
        "  curr = Image.open(cov1_path_vir + i)\n",
        "  curr = curr.resize((32,32))\n",
        "  curr = curr.convert(\"L\")\n",
        "  curr = np.stack((curr,)*3)\n",
        "  curr = np.transpose(curr, (1, 2, 0))\n",
        "  curr = PIL.Image.fromarray(curr)\n",
        "  X_test.append(((np.transpose(np.asarray(curr), (2, 1, 0)) / 255), labels[i]))"
      ],
      "metadata": {
        "id": "OA1Q60vffvLz"
      },
      "execution_count": 11,
      "outputs": []
    },
    {
      "cell_type": "code",
      "source": [
        "for i in os.listdir(cov1_path_cov):\n",
        "  if \"(\" not in i:\n",
        "    curr = Image.open(cov1_path_cov + i)\n",
        "    curr = curr.resize((32,32))\n",
        "    curr = curr.convert(\"L\")\n",
        "    curr = np.stack((curr,)*3)\n",
        "    curr = np.transpose(curr, (1, 2, 0))\n",
        "    curr = PIL.Image.fromarray(curr)\n",
        "    X_test.append(((np.transpose(np.asarray(curr), (2, 1, 0)) / 255), labels[i]))"
      ],
      "metadata": {
        "id": "prRd2Jr2fvrV"
      },
      "execution_count": 12,
      "outputs": []
    },
    {
      "cell_type": "code",
      "source": [
        "import time\n",
        "start = time.time()\n",
        "for i in dd_paths:\n",
        "  print(i, time.time() - start)\n",
        "  for j in os.listdir(i):\n",
        " \n",
        "    curr = Image.open(i + j)\n",
        "    curr = curr.resize((32,32))\n",
        "    curr = curr.convert(\"L\")\n",
        "    curr = np.stack((curr,)*3)\n",
        "    curr = np.transpose(curr, (1, 2, 0))\n",
        "    curr = PIL.Image.fromarray(curr)\n",
        "    X_test.append(((np.transpose(np.asarray(curr), (2, 1, 0)) / 255), labels[j]))\n",
        "end = time.time()\n",
        "print(end - start)"
      ],
      "metadata": {
        "colab": {
          "base_uri": "https://localhost:8080/"
        },
        "id": "2NuJFKqLl9Qf",
        "outputId": "1dfcbfee-3abb-4c7a-bd7e-b5cc892057d3"
      },
      "execution_count": null,
      "outputs": [
        {
          "output_type": "stream",
          "name": "stdout",
          "text": [
            "/content/gdrive/MyDrive/DiseaseDetection/DD Full Dataset/images_001/images/ 0.00010323524475097656\n",
            "/content/gdrive/MyDrive/DiseaseDetection/DD Full Dataset/images_002/images/ 231.2717523574829\n"
          ]
        }
      ]
    },
    {
      "cell_type": "code",
      "source": [
        "for i in os.listdir(cov2_images):\n",
        "  curr = Image.open(cov2_images + i)\n",
        "  curr = curr.resize((32,32))\n",
        "  curr = curr.convert(\"L\")\n",
        "  curr = np.stack((curr,)*3)\n",
        "  curr = np.transpose(curr, (1, 2, 0))\n",
        "  curr = PIL.Image.fromarray(curr)\n",
        "  if i in labels:\n",
        "    X_test.append(((np.transpose(np.asarray(curr), (2, 1, 0)) / 255), labels[i]))"
      ],
      "metadata": {
        "id": "m6JxxJ4woM8x"
      },
      "execution_count": null,
      "outputs": []
    },
    {
      "cell_type": "code",
      "source": [
        "print(len(X_test))"
      ],
      "metadata": {
        "colab": {
          "base_uri": "https://localhost:8080/"
        },
        "id": "Kff8aAgnk6uF",
        "outputId": "5a0356c2-8d61-4004-e87e-99341ea4bcdf"
      },
      "execution_count": null,
      "outputs": [
        {
          "output_type": "stream",
          "name": "stdout",
          "text": [
            "138331\n"
          ]
        }
      ]
    },
    {
      "cell_type": "code",
      "source": [
        "import random\n",
        "X_test2 = []\n",
        "for i in range(len(X_test)):\n",
        "  if X_test[i][1] == 0 and random.randint(1, 5) != 1:\n",
        "    continue\n",
        "  X_test2.append(X_test[i])"
      ],
      "metadata": {
        "id": "TKTfB7RI05FB"
      },
      "execution_count": null,
      "outputs": []
    },
    {
      "cell_type": "code",
      "source": [
        "c = []\n",
        "for i in X_test2:\n",
        "  c.append(i[1])\n",
        "print(pd.Series(c).value_counts())"
      ],
      "metadata": {
        "id": "m0GYBtXPxBsQ"
      },
      "execution_count": null,
      "outputs": []
    },
    {
      "cell_type": "code",
      "source": [
        "def convert_to_imshow_format(image):\n",
        "    # image = image / 2 + 0.5\n",
        "    # image = image.numpy()\n",
        "    return image.transpose(2,1,0) * 255"
      ],
      "metadata": {
        "id": "mTf7t9vwtLYW"
      },
      "execution_count": null,
      "outputs": []
    },
    {
      "cell_type": "code",
      "source": [
        "for i in X_test:\n",
        "  cv2_imshow(convert_to_imshow_format(i[0]))"
      ],
      "metadata": {
        "id": "1qrBukoHNwo5"
      },
      "execution_count": null,
      "outputs": []
    },
    {
      "cell_type": "code",
      "source": [
        "from sklearn.model_selection import train_test_split\n",
        "\n",
        "x_train, x_test, y_train, y_test = train_test_split([i[0] for i in X_test2], [i[1] for i in X_test2], test_size = 0.2)"
      ],
      "metadata": {
        "id": "gr8l0DC4uTUM"
      },
      "execution_count": null,
      "outputs": []
    },
    {
      "cell_type": "code",
      "source": [
        "new_x_train = []\n",
        "for i in range(len(x_train)):\n",
        "  new_x_train.append([x_train[i], y_train[i]])\n",
        "new_x_test = []\n",
        "for i in range(len(x_test)):\n",
        "  new_x_test.append([x_test[i], y_test[i]])"
      ],
      "metadata": {
        "id": "sLXpTNvlwobD"
      },
      "execution_count": null,
      "outputs": []
    },
    {
      "cell_type": "code",
      "source": [
        "import torch.nn as nn\n",
        "import torch.nn.functional as F\n",
        "\n",
        "class Net(nn.Module):\n",
        "    def __init__(self):\n",
        "        super(Net, self).__init__()\n",
        "        self.conv1 = nn.Conv2d(3, 6, 5)\n",
        "        self.pool = nn.MaxPool2d(2, 2)\n",
        "        self.conv2 = nn.Conv2d(6, 16, 5)\n",
        "        self.fc1 = nn.Linear(16 * 5 * 5, 120)\n",
        "        self.fc2 = nn.Linear(120, 84)\n",
        "        self.fc3 = nn.Linear(84, 20)\n",
        "\n",
        "    def forward(self, x):\n",
        "        x = self.pool(F.relu(self.conv1(x)))\n",
        "        x = self.pool(F.relu(self.conv2(x)))\n",
        "        x = x.view(-1, 16 * 5 * 5)\n",
        "        x = F.relu(self.fc1(x))\n",
        "        x = F.relu(self.fc2(x))\n",
        "        x = self.fc3(x)\n",
        "        return x\n",
        "    \n",
        "net = Net()"
      ],
      "metadata": {
        "id": "G7OGTwggI8kt"
      },
      "execution_count": null,
      "outputs": []
    },
    {
      "cell_type": "code",
      "source": [
        "import torch.optim as optim\n",
        "\n",
        "criterion = nn.CrossEntropyLoss()\n",
        "optimizer = optim.SGD(net.parameters(), lr=0.001, momentum=0.9)"
      ],
      "metadata": {
        "id": "upFhaE8-vxie"
      },
      "execution_count": null,
      "outputs": []
    },
    {
      "cell_type": "code",
      "source": [
        "trainloader = torch.utils.data.DataLoader(new_x_train, batch_size=20, shuffle=True)\n",
        "testloader = torch.utils.data.DataLoader(new_x_test, batch_size=len(new_x_test), shuffle=True)"
      ],
      "metadata": {
        "id": "yzmrW9qudqtc"
      },
      "execution_count": null,
      "outputs": []
    },
    {
      "cell_type": "code",
      "source": [
        "device = torch.device('cuda:0' if torch.cuda.is_available() else 'cpu')\n",
        "print(device)"
      ],
      "metadata": {
        "id": "qU839c6Bxl2W"
      },
      "execution_count": null,
      "outputs": []
    },
    {
      "cell_type": "code",
      "source": [
        "net.to(device)"
      ],
      "metadata": {
        "id": "RecOuUwKza0Y"
      },
      "execution_count": null,
      "outputs": []
    },
    {
      "cell_type": "code",
      "source": [
        "epochs = 10\n",
        "\n",
        "# print(torch.cuda.get_device_name(0))\n",
        "# if torch.cuda.is_available():\n",
        "#     net = net.cuda()\n",
        "#     criterion = criterion.cuda()\n",
        "\n",
        "for epoch in range(epochs):  # loop over the dataset multiple times\n",
        "    running_loss = 0.0\n",
        "    for i, data in enumerate(trainloader, 0):\n",
        "        # get the inputs\n",
        "        inputs, labels = data\n",
        "        inputs, labels = inputs.to(device), labels.to(device)\n",
        "\n",
        "        # zero the parameter gradients\n",
        "        optimizer.zero_grad()\n",
        "        # inputs = []\n",
        "        # forward + backward + optimize\n",
        "        # for j in X_test:\n",
        "        #   inputs.append(X_test[j])\n",
        "        outputs = net(inputs.float())\n",
        "        # outputs = torch.Tensor(outputs)\n",
        "        loss = criterion(outputs, labels)\n",
        "        loss.backward()\n",
        "        optimizer.step()\n",
        "\n",
        "        # print statistics\n",
        "        running_loss += loss.item()\n",
        "        # if i % 2000 == 1999:    # print every 2000 mini-batches\n",
        "        # print('[%d, %5d] loss: %.3f' % (epoch + 1, i + 1, running_loss / 2000))\n",
        "        running_loss = 0\n",
        "print('Finished Training.')"
      ],
      "metadata": {
        "id": "jZPRzgauvzej"
      },
      "execution_count": null,
      "outputs": []
    },
    {
      "cell_type": "code",
      "source": [
        "dataiter = iter(testloader)\n",
        "images, labels = dataiter.next()\n",
        "images = images.to(device)"
      ],
      "metadata": {
        "id": "0pCbL0hpu5I6"
      },
      "execution_count": null,
      "outputs": []
    },
    {
      "cell_type": "code",
      "source": [
        "outputs = net(images.float())"
      ],
      "metadata": {
        "id": "0YW9DwmW0lqn"
      },
      "execution_count": null,
      "outputs": []
    },
    {
      "cell_type": "code",
      "source": [
        "sm = nn.Softmax(dim=1)\n",
        "sm_outputs = sm(outputs)\n",
        "# print(sm_outputs)"
      ],
      "metadata": {
        "id": "F08NB4sc1N3T"
      },
      "execution_count": null,
      "outputs": []
    },
    {
      "cell_type": "code",
      "source": [
        "dataiter = iter(torch.utils.data.DataLoader(new_x_train, batch_size=len(new_x_train), shuffle=True))\n",
        "images, labels = dataiter.next()\n",
        "images = images.to(device)\n",
        "outputs = net(images.float())\n",
        "sm = nn.Softmax(dim=1)\n",
        "sm_outputs = sm(outputs)"
      ],
      "metadata": {
        "id": "l2SCEc8FRtE3"
      },
      "execution_count": null,
      "outputs": []
    },
    {
      "cell_type": "code",
      "source": [
        "def get_acc(in_list, labels):\n",
        "  correct = 0\n",
        "  for j in range(len(in_list)):\n",
        "    max = -1\n",
        "    max_index = -1\n",
        "    for i, val in enumerate(in_list[j]):\n",
        "      if val > max:\n",
        "        max = val\n",
        "        max_index = i\n",
        "    if max_index == labels[j]:\n",
        "      # print('Got Right: ' + str(labels[j]))\n",
        "      correct += 1\n",
        "    else:\n",
        "      print('Got Wrong: ' + str(labels[j]) + '(Correct) ' + str(max_index) + '(Guess)')\n",
        "  return correct / len(labels)"
      ],
      "metadata": {
        "id": "qY9E9GYO2HK0"
      },
      "execution_count": null,
      "outputs": []
    },
    {
      "cell_type": "code",
      "source": [
        "def get_acc_2(in_list, labels):\n",
        "  count = 0\n",
        "  for j in range(len(in_list)):\n",
        "    if labels[j] in sorted(range(len(in_list[j])), key=lambda i: in_list[j][i], reverse=True)[:3]:\n",
        "      count += 1\n",
        "  return count / len(labels)"
      ],
      "metadata": {
        "id": "jLoq5pr_yRqG"
      },
      "execution_count": null,
      "outputs": []
    },
    {
      "cell_type": "code",
      "source": [
        "get_acc_2(sm_outputs, labels)"
      ],
      "metadata": {
        "id": "Fbur3Y_mzmxw"
      },
      "execution_count": null,
      "outputs": []
    },
    {
      "cell_type": "code",
      "source": [
        "get_acc(sm_outputs, labels)"
      ],
      "metadata": {
        "id": "o3cIrNp03Kou"
      },
      "execution_count": null,
      "outputs": []
    }
  ]
}