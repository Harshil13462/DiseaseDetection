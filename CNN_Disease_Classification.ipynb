{
  "cells": [
    {
      "cell_type": "code",
      "execution_count": null,
      "metadata": {
        "colab": {
          "base_uri": "https://localhost:8080/"
        },
        "id": "8d3RH_mti6zR",
        "outputId": "603006cb-0bdc-49f5-f226-66b7d3bbc2ed"
      },
      "outputs": [
        {
          "name": "stdout",
          "output_type": "stream",
          "text": [
            "Drive already mounted at /content/gdrive; to attempt to forcibly remount, call drive.mount(\"/content/gdrive\", force_remount=True).\n"
          ]
        }
      ],
      "source": [
        "import matplotlib.pyplot as plt\n",
        "import os\n",
        "import pandas as pd\n",
        "import numpy as np\n",
        "import cv2\n",
        "from PIL import Image\n",
        "import PIL\n",
        "from google.colab.patches import cv2_imshow\n",
        "import gspread\n",
        "import torch\n",
        "import torchvision\n",
        "import torchvision.transforms as transforms\n",
        "import sklearn\n",
        "\n",
        "from google.colab import drive\n",
        "drive.mount('/content/gdrive')"
      ]
    },
    {
      "cell_type": "code",
      "execution_count": null,
      "metadata": {
        "colab": {
          "base_uri": "https://localhost:8080/"
        },
        "id": "IhhDnshtplxh",
        "outputId": "fd4715b4-1492-4d23-a7d4-3d920af805e5"
      },
      "outputs": [
        {
          "name": "stdout",
          "output_type": "stream",
          "text": [
            "Mounted at /content/gdrive\n"
          ]
        }
      ],
      "source": [
        "drive.mount(\"/content/gdrive\", force_remount=True)"
      ]
    },
    {
      "cell_type": "code",
      "execution_count": null,
      "metadata": {
        "id": "AfsVe0_Nf8CH"
      },
      "outputs": [],
      "source": [
        "NoFind = 0\n",
        "Covid = 1\n",
        "Atelectasis = 3\n",
        "Cardiomegaly = 4\n",
        "Effusion = 5\n",
        "Infiltration = 6\n",
        "MASS = 7\n",
        "Nodule = 8\n",
        "Pneumonia = 9\n",
        "Pneumothorax = 10\n",
        "Consolidation = 11\n",
        "Edema = 12\n",
        "Emphysema, Fibrosis, Pleural, Hernia, Tuberculosis, Opacity, Other = 13, 14, 15, 16, 17, 18, 19\n",
        "testing_path = '/content/gdrive/MyDrive/DiseaseDetection/Testing/Images/'\n",
        "\n",
        "tb_path_pos = '/content/gdrive/MyDrive/DiseaseDetection/TB_Chest_Radiography_Database/Tuberculosis/'\n",
        "tb_path_neg = '/content/gdrive/MyDrive/DiseaseDetection/TB_Chest_Radiography_Database/Normal/'\n",
        "tb_data = '/content/gdrive/MyDrive/DiseaseDetection/TB_Chest_Radiography_Database/Tuberculosis.csv'\n",
        "\n",
        "cov1_path_cov = '/content/gdrive/MyDrive/DiseaseDetection/COVID-19_Radiography_Dataset/COVID/images/'\n",
        "cov1_path_vir = '/content/gdrive/MyDrive/DiseaseDetection/COVID-19_Radiography_Dataset/Viral Pneumonia/images/'\n",
        "cov1_path_opac = '/content/gdrive/MyDrive/DiseaseDetection/COVID-19_Radiography_Dataset/Lung_Opacity/images/'\n",
        "cov1_path_neg = '/content/gdrive/MyDrive/DiseaseDetection/COVID-19_Radiography_Dataset/Normal/images/'\n",
        "cov1_data = '/content/gdrive/MyDrive/DiseaseDetection/COVID-19_Radiography_Dataset/data.csv'\n",
        "\n",
        "cov2_images = '/content/gdrive/MyDrive/DiseaseDetection/covid-chestxray-dataset-master/images/'\n",
        "cov2_data = '/content/gdrive/MyDrive/DiseaseDetection/covid-chestxray-dataset-master/Data.csv'\n",
        "\n",
        "dd_paths = []\n",
        "for i in range(1, 13):\n",
        "  x = '/content/gdrive/MyDrive/DiseaseDetection/DD Full Dataset/images_0'\n",
        "  if i < 10:\n",
        "    x += '0'\n",
        "  x += str(i) + '/images/'\n",
        "  dd_paths.append(x)\n",
        "\n",
        "dd_data = '/content/gdrive/MyDrive/DiseaseDetection/DD Full Dataset/data.csv'"
      ]
    },
    {
      "cell_type": "code",
      "execution_count": null,
      "metadata": {
        "id": "YHfOzbhcaovK"
      },
      "outputs": [],
      "source": [
        "tb_df = pd.read_csv(tb_data)\n",
        "cov1_df = pd.read_csv(cov1_data)\n",
        "cov2_df = pd.read_csv(cov2_data)\n",
        "dd_df = pd.read_csv(dd_data)\n",
        "\n",
        "tb_df.rename(columns = {\"FILE NAME\": \"Name\"}, inplace = True)\n",
        "cov1_df.rename(columns = {\"FILE NAME\": \"Name\"}, inplace = True)\n",
        "cov2_df.rename(columns = {\"filename\": \"Name\", 'finding': 'Diagnosis'}, inplace = True)\n",
        "dd_df.rename(columns = {\"Image Index\": \"Name\", 'Finding Labels': 'Diagnosis'}, inplace = True)\n",
        "\n",
        "def split(x):\n",
        "  if \"|\" in x:\n",
        "    return x.split('|')\n",
        "  elif \"/\" in x:\n",
        "    return x.split('/')\n",
        "  else:\n",
        "    if type(x) != list:\n",
        "      return [x]\n",
        "    else:\n",
        "      return x\n",
        "def organize(x):\n",
        "  for i in range(len(x)):\n",
        "    if x[i].lower() == \"covid\" or x[i].lower() == \"covid-19\":\n",
        "      x[i] = Covid\n",
        "    elif x[i] == \"None\" or x[i] == \"No Finding\":\n",
        "      x[i] = NoFind\n",
        "    elif x[i] == \"Viral\":\n",
        "      x[i] = Pneumonia\n",
        "    elif x[i] == \"Atelectasis\":\n",
        "      x[i] = Atelectasis\n",
        "    elif x[i] == \"Cardiomegaly\":\n",
        "      x[i] = Cardiomegaly\n",
        "    elif x[i] == \"Effusion\":\n",
        "      x[i] = Effusion\n",
        "    elif x[i] == \"Infiltration\":\n",
        "      x[i] = Infiltration\n",
        "    elif x[i] == \"Mass\":\n",
        "      x[i] = MASS\n",
        "    elif x[i] == \"Nodule\":\n",
        "      x[i] = Nodule\n",
        "    elif x[i] == \"Pneumonia\":\n",
        "      x[i] = Pneumonia\n",
        "    elif x[i] == \"Pneumothorax\":\n",
        "      x[i] = Pneumothorax\n",
        "    elif x[i] == \"Consolidation\":\n",
        "      x[i] = Consolidation\n",
        "    elif x[i] == \"Edema\":\n",
        "      x[i] = Edema\n",
        "    elif x[i] == \"Emphysema\":\n",
        "      x[i] = Emphysema\n",
        "    elif x[i] == \"Fibrosis\":\n",
        "      x[i] = Fibrosis\n",
        "    elif x[i] == \"Pleural_Thickening\":\n",
        "      x[i] = Pleural\n",
        "    elif x[i] == \"Hernia\":\n",
        "      x[i] = Hernia\n",
        "    elif x[i] == \"Tuberculosis\":\n",
        "      x[i] = Tuberculosis\n",
        "    elif x[i] == \"Opacity\":\n",
        "      x[i] = Opacity\n",
        "    else:\n",
        "      x[i] = Other\n",
        "  return x\n",
        "def cov1_modify(x):\n",
        "  if \"NORMAL\" in x:\n",
        "    return x.capitalize() + '.png'\n",
        "  return x + '.png'\n",
        "\n",
        "def tb_modify(x):\n",
        "  if \"Normal\" in x:\n",
        "    return \"Normal TB-\" + x.split(\"-\")[1] + '.png'\n",
        "  return x + \".png\"\n",
        "cov1_df[\"Name\"] = cov1_df[\"Name\"].apply(cov1_modify)\n",
        "tb_df[\"Name\"] = tb_df[\"Name\"].apply(tb_modify)\n",
        "\n",
        "\n",
        "df = pd.concat([dd_df, cov2_df, cov1_df, tb_df], ignore_index=True)\n",
        "df[\"Diagnosis\"] = df[\"Diagnosis\"].apply(split)\n",
        "df[\"Diagnosis\"] = df[\"Diagnosis\"].apply(organize)\n",
        "df.rename(columns = {\"Name\": \"Image Name\", 'Diagnosis': 'Classification'}, inplace = True)"
      ]
    },
    {
      "cell_type": "code",
      "execution_count": null,
      "metadata": {
        "id": "_DHJr9_geFts"
      },
      "outputs": [],
      "source": [
        "temp = df[\"Classification\"].copy()\n",
        "labels = {df[\"Image Name\"][i]: temp[i][0] for i in range(len(df))}"
      ]
    },
    {
      "cell_type": "code",
      "execution_count": null,
      "metadata": {
        "id": "NjbV5JmSh5vL"
      },
      "outputs": [],
      "source": [
        "X_test = []"
      ]
    },
    {
      "cell_type": "code",
      "execution_count": null,
      "metadata": {
        "id": "teG70_I1MmXJ"
      },
      "outputs": [],
      "source": [
        "for i in os.listdir(tb_path_pos): \n",
        "  curr = Image.open(tb_path_pos + i)\n",
        "  curr = curr.resize((32,32))\n",
        "  curr = curr.convert(\"L\")\n",
        "  curr = np.stack((curr,)*3)\n",
        "  curr = np.transpose(curr, (1, 2, 0))\n",
        "  curr = PIL.Image.fromarray(curr)\n",
        "  X_test.append(((np.transpose(np.asarray(curr), (2, 1, 0)) / 255), labels[i]))"
      ]
    },
    {
      "cell_type": "code",
      "execution_count": null,
      "metadata": {
        "id": "uI35m_6oeaIY"
      },
      "outputs": [],
      "source": [
        "for i in os.listdir(tb_path_neg):\n",
        "  curr = Image.open(tb_path_neg + i)\n",
        "  curr = curr.resize((32,32))\n",
        "  curr = curr.convert(\"L\")\n",
        "  curr = np.stack((curr,)*3)\n",
        "  curr = np.transpose(curr, (1, 2, 0))\n",
        "  curr = PIL.Image.fromarray(curr)\n",
        "  X_test.append(((np.transpose(np.asarray(curr), (2, 1, 0)) / 255), labels[i]))"
      ]
    },
    {
      "cell_type": "code",
      "execution_count": null,
      "metadata": {
        "id": "TJf5lcq4few3"
      },
      "outputs": [],
      "source": [
        "for i in os.listdir(cov1_path_neg):\n",
        "  if \"(\" not in i:\n",
        "    curr = Image.open(cov1_path_neg + i)\n",
        "    curr = curr.resize((32,32))\n",
        "    curr = curr.convert(\"L\")\n",
        "    curr = np.stack((curr,)*3)\n",
        "    curr = np.transpose(curr, (1, 2, 0))\n",
        "    curr = PIL.Image.fromarray(curr)\n",
        "    X_test.append(((np.transpose(np.asarray(curr), (2, 1, 0)) / 255), labels[i]))"
      ]
    },
    {
      "cell_type": "code",
      "execution_count": null,
      "metadata": {
        "id": "wqqeYtqtedc-"
      },
      "outputs": [],
      "source": [
        "for i in os.listdir(cov1_path_opac):\n",
        "  curr = Image.open(cov1_path_opac + i)\n",
        "  curr = curr.resize((32,32))\n",
        "  curr = curr.convert(\"L\")\n",
        "  curr = np.stack((curr,)*3)\n",
        "  curr = np.transpose(curr, (1, 2, 0))\n",
        "  curr = PIL.Image.fromarray(curr)\n",
        "  X_test.append(((np.transpose(np.asarray(curr), (2, 1, 0)) / 255), labels[i]))"
      ]
    },
    {
      "cell_type": "code",
      "execution_count": null,
      "metadata": {
        "id": "OA1Q60vffvLz"
      },
      "outputs": [],
      "source": [
        "for i in os.listdir(cov1_path_vir):\n",
        "  curr = Image.open(cov1_path_vir + i)\n",
        "  curr = curr.resize((32,32))\n",
        "  curr = curr.convert(\"L\")\n",
        "  curr = np.stack((curr,)*3)\n",
        "  curr = np.transpose(curr, (1, 2, 0))\n",
        "  curr = PIL.Image.fromarray(curr)\n",
        "  X_test.append(((np.transpose(np.asarray(curr), (2, 1, 0)) / 255), labels[i]))"
      ]
    },
    {
      "cell_type": "code",
      "execution_count": null,
      "metadata": {
        "id": "prRd2Jr2fvrV"
      },
      "outputs": [],
      "source": [
        "for i in os.listdir(cov1_path_cov):\n",
        "  if \"(\" not in i:\n",
        "    curr = Image.open(cov1_path_cov + i)\n",
        "    curr = curr.resize((32,32))\n",
        "    curr = curr.convert(\"L\")\n",
        "    curr = np.stack((curr,)*3)\n",
        "    curr = np.transpose(curr, (1, 2, 0))\n",
        "    curr = PIL.Image.fromarray(curr)\n",
        "    X_test.append(((np.transpose(np.asarray(curr), (2, 1, 0)) / 255), labels[i]))"
      ]
    },
    {
      "cell_type": "code",
      "execution_count": null,
      "metadata": {
        "colab": {
          "background_save": true,
          "base_uri": "https://localhost:8080/"
        },
        "id": "2NuJFKqLl9Qf",
        "outputId": "f9d9c09c-313d-46a8-c0c7-cc526a106370"
      },
      "outputs": [
        {
          "name": "stdout",
          "output_type": "stream",
          "text": [
            "/content/gdrive/MyDrive/DiseaseDetection/DD Full Dataset/images_001/images/ 9.489059448242188e-05\n",
            "/content/gdrive/MyDrive/DiseaseDetection/DD Full Dataset/images_002/images/ 98.33114051818848\n",
            "/content/gdrive/MyDrive/DiseaseDetection/DD Full Dataset/images_003/images/ 294.28050208091736\n",
            "/content/gdrive/MyDrive/DiseaseDetection/DD Full Dataset/images_004/images/ 521.0224914550781\n"
          ]
        }
      ],
      "source": [
        "import time\n",
        "start = time.time()\n",
        "for i in dd_paths:\n",
        "  print(i, time.time() - start)\n",
        "  for j in os.listdir(i):\n",
        " \n",
        "    curr = Image.open(i + j)\n",
        "    curr = curr.resize((32,32))\n",
        "    curr = curr.convert(\"L\")\n",
        "    curr = np.stack((curr,)*3)\n",
        "    curr = np.transpose(curr, (1, 2, 0))\n",
        "    curr = PIL.Image.fromarray(curr)\n",
        "    X_test.append(((np.transpose(np.asarray(curr), (2, 1, 0)) / 255), labels[j]))\n",
        "end = time.time()\n",
        "print(end - start)"
      ]
    },
    {
      "cell_type": "code",
      "execution_count": null,
      "metadata": {
        "id": "m6JxxJ4woM8x"
      },
      "outputs": [],
      "source": [
        "for i in os.listdir(cov2_images):\n",
        "  curr = Image.open(cov2_images + i)\n",
        "  curr = curr.resize((32,32))\n",
        "  curr = curr.convert(\"L\")\n",
        "  curr = np.stack((curr,)*3)\n",
        "  curr = np.transpose(curr, (1, 2, 0))\n",
        "  curr = PIL.Image.fromarray(curr)\n",
        "  if i in labels:\n",
        "    X_test.append(((np.transpose(np.asarray(curr), (2, 1, 0)) / 255), labels[i]))"
      ]
    },
    {
      "cell_type": "code",
      "execution_count": null,
      "metadata": {
        "id": "Kff8aAgnk6uF"
      },
      "outputs": [],
      "source": [
        "print(len(X_test))"
      ]
    },
    {
      "cell_type": "code",
      "execution_count": null,
      "metadata": {
        "id": "TKTfB7RI05FB"
      },
      "outputs": [],
      "source": [
        "import random\n",
        "X_test2 = []\n",
        "for i in range(len(X_test)):\n",
        "  if X_test[i][1] == 0 and random.randint(1, 5) != 1:\n",
        "    continue\n",
        "  X_test2.append(X_test[i])"
      ]
    },
    {
      "cell_type": "code",
      "execution_count": null,
      "metadata": {
        "id": "m0GYBtXPxBsQ"
      },
      "outputs": [],
      "source": [
        "c = []\n",
        "for i in X_test2:\n",
        "  c.append(i[1])\n",
        "print(pd.Series(c).value_counts())"
      ]
    },
    {
      "cell_type": "code",
      "execution_count": null,
      "metadata": {
        "id": "mTf7t9vwtLYW"
      },
      "outputs": [],
      "source": [
        "def convert_to_imshow_format(image):\n",
        "    # image = image / 2 + 0.5\n",
        "    # image = image.numpy()\n",
        "    return image.transpose(2,1,0) * 255"
      ]
    },
    {
      "cell_type": "code",
      "execution_count": null,
      "metadata": {
        "id": "gr8l0DC4uTUM"
      },
      "outputs": [],
      "source": [
        "from sklearn.model_selection import train_test_split\n",
        "\n",
        "x_train, x_test, y_train, y_test = train_test_split([i[0] for i in X_test2], [i[1] for i in X_test2], test_size = 0.2)"
      ]
    },
    {
      "cell_type": "code",
      "execution_count": null,
      "metadata": {
        "id": "sLXpTNvlwobD"
      },
      "outputs": [],
      "source": [
        "new_x_train = []\n",
        "for i in range(len(x_train)):\n",
        "  new_x_train.append([x_train[i], y_train[i]])\n",
        "new_x_test = []\n",
        "for i in range(len(x_test)):\n",
        "  new_x_test.append([x_test[i], y_test[i]])"
      ]
    },
    {
      "cell_type": "code",
      "execution_count": null,
      "metadata": {
        "id": "G7OGTwggI8kt"
      },
      "outputs": [],
      "source": [
        "import torch.nn as nn\n",
        "import torch.nn.functional as F\n",
        "\n",
        "class Net(nn.Module):\n",
        "    def __init__(self):\n",
        "        super(Net, self).__init__()\n",
        "        self.conv1 = nn.Conv2d(3, 6, 5)\n",
        "        self.pool = nn.MaxPool2d(2, 2)\n",
        "        self.conv2 = nn.Conv2d(6, 16, 5)\n",
        "        self.fc1 = nn.Linear(16 * 5 * 5, 120)\n",
        "        self.fc2 = nn.Linear(120, 84)\n",
        "        self.fc3 = nn.Linear(84, 20)\n",
        "\n",
        "    def forward(self, x):\n",
        "        x = self.pool(F.relu(self.conv1(x)))\n",
        "        x = self.pool(F.relu(self.conv2(x)))\n",
        "        x = x.view(-1, 16 * 5 * 5)\n",
        "        x = F.relu(self.fc1(x))\n",
        "        x = F.relu(self.fc2(x))\n",
        "        x = self.fc3(x)\n",
        "        return x\n",
        "    \n",
        "net = Net()"
      ]
    },
    {
      "cell_type": "code",
      "execution_count": null,
      "metadata": {
        "id": "upFhaE8-vxie"
      },
      "outputs": [],
      "source": [
        "import torch.optim as optim\n",
        "\n",
        "criterion = nn.CrossEntropyLoss()\n",
        "optimizer = optim.SGD(net.parameters(), lr=0.001, momentum=0.9)"
      ]
    },
    {
      "cell_type": "code",
      "execution_count": null,
      "metadata": {
        "id": "yzmrW9qudqtc"
      },
      "outputs": [],
      "source": [
        "trainloader = torch.utils.data.DataLoader(new_x_train, batch_size=20, shuffle=True)\n",
        "trainloader2 = torch.utils.data.DataLoader(new_x_train, batch_size=len(new_x_train), shuffle=True)\n",
        "testloader = torch.utils.data.DataLoader(new_x_test, batch_size=len(new_x_test), shuffle=True)"
      ]
    },
    {
      "cell_type": "code",
      "execution_count": null,
      "metadata": {
        "id": "qU839c6Bxl2W"
      },
      "outputs": [],
      "source": [
        "device = torch.device('cuda:0' if torch.cuda.is_available() else 'cpu')\n",
        "print(device)"
      ]
    },
    {
      "cell_type": "code",
      "execution_count": null,
      "metadata": {
        "id": "RecOuUwKza0Y"
      },
      "outputs": [],
      "source": [
        "net.to(device)"
      ]
    },
    {
      "cell_type": "code",
      "execution_count": null,
      "metadata": {
        "id": "jZPRzgauvzej"
      },
      "outputs": [],
      "source": [
        "epochs = 10\n",
        "\n",
        "# print(torch.cuda.get_device_name(0))\n",
        "# if torch.cuda.is_available():\n",
        "#     net = net.cuda()\n",
        "#     criterion = criterion.cuda()\n",
        "\n",
        "for epoch in range(epochs):  # loop over the dataset multiple times\n",
        "    running_loss = 0.0\n",
        "    for i, data in enumerate(trainloader, 0):\n",
        "        # get the inputs\n",
        "        inputs, labels = data\n",
        "        inputs, labels = inputs.to(device), labels.to(device)\n",
        "\n",
        "        # zero the parameter gradients\n",
        "        optimizer.zero_grad()\n",
        "        # inputs = []\n",
        "        # forward + backward + optimize\n",
        "        # for j in X_test:\n",
        "        #   inputs.append(X_test[j])\n",
        "        outputs = net(inputs.float())\n",
        "        # outputs = torch.Tensor(outputs)\n",
        "        loss = criterion(outputs, labels)\n",
        "        loss.backward()\n",
        "        optimizer.step()\n",
        "\n",
        "        # print statistics\n",
        "        running_loss += loss.item()\n",
        "        # if i % 2000 == 1999:    # print every 2000 mini-batches\n",
        "        # print('[%d, %5d] loss: %.3f' % (epoch + 1, i + 1, running_loss / 2000))\n",
        "        running_loss = 0\n",
        "print('Finished Training.')"
      ]
    },
    {
      "cell_type": "code",
      "execution_count": null,
      "metadata": {
        "id": "0pCbL0hpu5I6"
      },
      "outputs": [],
      "source": [
        "dataiter = iter(testloader)\n",
        "images, labels = dataiter.next()\n",
        "images = images.to(device)"
      ]
    },
    {
      "cell_type": "code",
      "execution_count": null,
      "metadata": {
        "id": "0YW9DwmW0lqn"
      },
      "outputs": [],
      "source": [
        "outputs = net(images.float())"
      ]
    },
    {
      "cell_type": "code",
      "execution_count": null,
      "metadata": {
        "id": "F08NB4sc1N3T"
      },
      "outputs": [],
      "source": [
        "sm = nn.Softmax(dim=1)\n",
        "sm_outputs = sm(outputs)\n",
        "# print(sm_outputs)"
      ]
    },
    {
      "cell_type": "code",
      "execution_count": null,
      "metadata": {
        "id": "l2SCEc8FRtE3"
      },
      "outputs": [],
      "source": [
        "# dataiter = iter(torch.utils.data.DataLoader(new_x_train, batch_size=len(new_x_train), shuffle=True))\n",
        "# images, labels = dataiter.next()\n",
        "# images = images.to(device)\n",
        "# outputs = net(images.float())\n",
        "# sm = nn.Softmax(dim=1)\n",
        "# sm_outputs = sm(outputs)"
      ]
    },
    {
      "cell_type": "code",
      "execution_count": null,
      "metadata": {
        "id": "qY9E9GYO2HK0"
      },
      "outputs": [],
      "source": [
        "def get_acc(in_list, labels):\n",
        "  correct = 0\n",
        "  for j in range(len(in_list)):\n",
        "    max = -1\n",
        "    max_index = -1\n",
        "    for i, val in enumerate(in_list[j]):\n",
        "      if val > max:\n",
        "        max = val\n",
        "        max_index = i\n",
        "    if max_index == labels[j]:\n",
        "      # print('Got Right: ' + str(labels[j]))\n",
        "      correct += 1\n",
        "    else:\n",
        "      print('Got Wrong: ' + str(labels[j]) + '(Correct) ' + str(max_index) + '(Guess)')\n",
        "  return correct / len(labels)"
      ]
    },
    {
      "cell_type": "code",
      "execution_count": null,
      "metadata": {
        "id": "jLoq5pr_yRqG"
      },
      "outputs": [],
      "source": [
        "def get_acc_2(in_list, labels):\n",
        "  count = 0\n",
        "  for j in range(len(in_list)):\n",
        "    if labels[j] in sorted(range(len(in_list[j])), key=lambda i: in_list[j][i], reverse=True)[:3]:\n",
        "      count += 1\n",
        "  return count / len(labels)"
      ]
    },
    {
      "cell_type": "code",
      "execution_count": null,
      "metadata": {
        "id": "Fbur3Y_mzmxw"
      },
      "outputs": [],
      "source": [
        "get_acc_2(sm_outputs, labels) # 0.6023323430883004 training"
      ]
    },
    {
      "cell_type": "code",
      "execution_count": null,
      "metadata": {
        "id": "o3cIrNp03Kou"
      },
      "outputs": [],
      "source": [
        "get_acc(sm_outputs, labels) # 0.3004866948991846 training"
      ]
    }
  ],
  "metadata": {
    "accelerator": "GPU",
    "colab": {
      "provenance": []
    },
    "gpuClass": "standard",
    "kernelspec": {
      "display_name": "Python 3",
      "name": "python3"
    },
    "language_info": {
      "name": "python"
    }
  },
  "nbformat": 4,
  "nbformat_minor": 0
}